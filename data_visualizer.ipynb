{
 "cells": [
  {
   "cell_type": "code",
   "execution_count": null,
   "metadata": {},
   "outputs": [],
   "source": [
    "# %matplotlib qt\n",
    "\n",
    "import numpy as np\n",
    "import pandas as pd\n",
    "import time \n",
    "import datetime \n",
    "import os\n",
    "\n",
    "from src.dataset.parse_dataset import get_pIDs, prepare_data, get_profiles\n",
    "from libs.visualisation import get_daily_glycaemic_variation, get_group_daily_glycaemic_variation, get_individual_plot, compare_measures, compare_glycaemic_measures\n",
    "\n",
    "import seaborn as sns\n",
    "import matplotlib.pyplot as plt\n",
    "from matplotlib.dates import DateFormatter\n",
    "from sklearn.preprocessing import OneHotEncoder, OrdinalEncoder"
   ]
  },
  {
   "cell_type": "code",
   "execution_count": null,
   "metadata": {},
   "outputs": [],
   "source": [
    "dataset = 'OhioT1DM'  # 0:'Replace_BG, 1:'OhioT1DM, 2: 'OpenAPS', 3:'Tidepool'\n",
    "dataset_path = './datasets/{}/raw/'.format(dataset)\n",
    "pIDs = get_pIDs(dataset_path)\n",
    "print(len(pIDs))\n",
    "print(pIDs)"
   ]
  },
  {
   "cell_type": "code",
   "execution_count": null,
   "metadata": {},
   "outputs": [],
   "source": [
    "if os.path.exists('./datasets/{}.csv'.format(dataset)):\n",
    "    df = pd.read_csv('./datasets/{}.csv'.format(dataset))\n",
    "else:\n",
    "    df = prepare_data(dataset_path, pIDs, True)\n",
    "    df.to_csv('./datasets/{}.csv'.format(dataset), index=False)"
   ]
  },
  {
   "cell_type": "code",
   "execution_count": null,
   "metadata": {},
   "outputs": [],
   "source": [
    "if os.path.exists('./datasets/{}_profile.csv'.format(dataset)):\n",
    "    profiles = pd.read_csv('./datasets/{}_profile.csv'.format(dataset))\n",
    "else:\n",
    "    profiles = get_profiles(dataset_path)\n",
    "    profiles.to_csv('./datasets/{}_profile.csv'.format(dataset), index=False)"
   ]
  },
  {
   "cell_type": "code",
   "execution_count": null,
   "metadata": {},
   "outputs": [],
   "source": [
    "pID = 540"
   ]
  },
  {
   "cell_type": "code",
   "execution_count": null,
   "metadata": {},
   "outputs": [],
   "source": [
    "start_day = 10\n",
    "end_day   = 12\n",
    "\n",
    "display_plot = get_individual_plot(df, dataset, pID, start_day, end_day)\n",
    "plt.show()"
   ]
  },
  {
   "cell_type": "code",
   "execution_count": null,
   "metadata": {},
   "outputs": [],
   "source": [
    "display_plot = get_daily_glycaemic_variation(df, dataset, pID)\n",
    "plt.show()"
   ]
  },
  {
   "cell_type": "code",
   "execution_count": null,
   "metadata": {},
   "outputs": [],
   "source": [
    "category = \"Gender\"\n",
    "\n",
    "display_plot = get_group_daily_glycaemic_variation(df, profiles, category)\n",
    "plt.show()"
   ]
  },
  {
   "cell_type": "code",
   "execution_count": null,
   "metadata": {},
   "outputs": [],
   "source": [
    "category = \"Gender\"\n",
    "cat_array = profiles[category].unique()\n",
    "\n",
    "fig, axs = plt.subplots(ncols= len(cat_array), figsize = (len(cat_array) * 5,6))\n",
    "for ax, cat in zip(axs, cat_array):\n",
    "    mask = profiles[category] == cat\n",
    "    inc = profiles.loc[mask, 'pID']\n",
    "    select_pIDs = inc.unique()\n",
    "    ax, zone, zone_index = compare_measures(df, select_pIDs, ax)\n",
    "    ax.set_title('[{cat}] Safe Regions: {per:.1f}%'.format(cat = cat, per = zone[0] + zone[1]))\n",
    "# Ensure the layout is tight to prevent labels from being cut off\n",
    "fig.tight_layout()\n",
    "fig.suptitle(f'Clarke Error Grid stratified by {category}')\n",
    "plt.show()"
   ]
  },
  {
   "cell_type": "code",
   "execution_count": null,
   "metadata": {},
   "outputs": [],
   "source": [
    "measure = 'ADDR'\n",
    "category = 'Age Range'\n",
    "hue     = 'Gender'\n",
    "\n",
    "sns_plot = compare_glycaemic_measures(df, profiles, pIDs, measure, category, hue, 0, 28)\n"
   ]
  },
  {
   "cell_type": "code",
   "execution_count": null,
   "metadata": {},
   "outputs": [],
   "source": [
    "category = \"Age Range\"\n",
    "cat_array = profiles.copy()[category].unique()\n",
    "cat_array.sort()\n",
    "df_group = df.copy()\n",
    "for cat in cat_array:\n",
    "    mask = profiles[category] == cat\n",
    "    inc  = profiles.loc[mask, 'pID']\n",
    "    select_pIDs = inc.unique()\n",
    "\n",
    "    df_group.loc[df_group['pID'].isin(select_pIDs), category] = cat\n",
    "\n",
    "sns.histplot(data=df_group, x='CGM' ,bins=30, stat = 'density', hue=category, kde=True, legend=True, common_norm=False)"
   ]
  }
 ],
 "metadata": {
  "kernelspec": {
   "display_name": "pytorch_cp",
   "language": "python",
   "name": "pytorch_cp"
  },
  "language_info": {
   "codemirror_mode": {
    "name": "ipython",
    "version": 3
   },
   "file_extension": ".py",
   "mimetype": "text/x-python",
   "name": "python",
   "nbconvert_exporter": "python",
   "pygments_lexer": "ipython3",
   "version": "3.9.0"
  },
  "orig_nbformat": 4
 },
 "nbformat": 4,
 "nbformat_minor": 2
}
